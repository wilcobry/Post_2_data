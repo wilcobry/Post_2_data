{
 "cells": [
  {
   "cell_type": "code",
   "execution_count": 1,
   "metadata": {},
   "outputs": [],
   "source": [
    "#import the necessary libraries\n",
    "\n",
    "import pandas as pd\n",
    "from selenium import webdriver\n",
    "from selenium.webdriver.chrome.service import Service as ChromeService\n",
    "from webdriver_manager.chrome import ChromeDriverManager\n",
    "from selenium.webdriver.common.by import By\n",
    "from selenium.webdriver.support.ui import WebDriverWait\n",
    "from selenium.webdriver.support import expected_conditions as EC\n",
    "import requests\n",
    "import time"
   ]
  },
  {
   "cell_type": "code",
   "execution_count": 3,
   "metadata": {},
   "outputs": [],
   "source": [
    "#read in the url from redfin\n",
    "url = 'https://www.redfin.com/county/2918/UT/Utah-County'"
   ]
  },
  {
   "cell_type": "code",
   "execution_count": 4,
   "metadata": {},
   "outputs": [],
   "source": [
    "#selenium code to navigate to the url in the chrome browser\n",
    "driver = webdriver.Chrome(service=ChromeService(ChromeDriverManager().install()))\n",
    "driver.get(url)"
   ]
  },
  {
   "cell_type": "code",
   "execution_count": 5,
   "metadata": {},
   "outputs": [],
   "source": [
    "prices = []\n",
    "beds = []\n",
    "baths = []\n",
    "square_footage = []\n",
    "address = []\n",
    "#code to account for the webdriver going through multiple pages of code\n",
    "current_page = 1\n",
    "pagination = driver.find_element(By.CLASS_NAME, 'PageNumbers')\n",
    "last_page = pagination.find_elements(By.CLASS_NAME, 'ButtonLabel')[-1].text\n",
    "while current_page <= int(last_page):\n",
    "    #finds the element for the containers\n",
    "    container = driver.find_element(By.CLASS_NAME, 'HomeCardsContainer')\n",
    "    all_homes = container.find_elements(By.CLASS_NAME, 'HomeCardContainer')\n",
    "    for home in all_homes:\n",
    "        try:\n",
    "            #finds the elements for each type of data we want to collect\n",
    "            price = home.find_element(By.CLASS_NAME, 'bp-Homecard__Price--value').text\n",
    "            bed = home.find_element(By.CLASS_NAME, 'bp-Homecard__Stats--beds').text\n",
    "            bath = home.find_element(By.CLASS_NAME, 'bp-Homecard__Stats--baths').text\n",
    "            sqft = home.find_element(By.CLASS_NAME, 'bp-Homecard__LockedStat--value').text\n",
    "            add = home.find_element(By.CLASS_NAME, 'bp-Homecard__Address').text\n",
    "            key = home.find_element(By.CLASS_NAME, 'KeyFactsExtension').text\n",
    "        except:\n",
    "            price = None\n",
    "            bed = None\n",
    "            bath = None\n",
    "        #code to create lists for the data\n",
    "        prices.append(price)\n",
    "        beds.append(bed)\n",
    "        baths.append(bath)\n",
    "        square_footage.append(sqft)\n",
    "        address.append(add)\n",
    "    try:\n",
    "        #code to find the button to click to the next page\n",
    "        next_button = driver.find_element(By.CSS_SELECTOR, '.PageArrow__direction--next')\n",
    "        next_button.click()\n",
    "        current_page += 1\n",
    "        #use a sleeper for ethical coding\n",
    "        #time.sleep(2)\n",
    "    except:\n",
    "        pass\n",
    "\n",
    "#we can quit the chrome driver once we have scraped our data\n",
    "driver.quit()"
   ]
  },
  {
   "cell_type": "code",
   "execution_count": null,
   "metadata": {},
   "outputs": [],
   "source": [
    "#create a dataframe with scraped data\n",
    "df = pd.DataFrame({'Price': prices, 'Beds': beds, 'Baths': baths, 'Sq_Footage': square_footage, 'Address': address})\n",
    "print(df.head(2))\n",
    "print(df.tail(2))\n",
    "df"
   ]
  },
  {
   "cell_type": "code",
   "execution_count": null,
   "metadata": {},
   "outputs": [],
   "source": [
    "#create a csv of the dataframe\n",
    "df.to_csv('redfin_data.csv')"
   ]
  }
 ],
 "metadata": {
  "kernelspec": {
   "display_name": "classesnew",
   "language": "python",
   "name": "python3"
  },
  "language_info": {
   "codemirror_mode": {
    "name": "ipython",
    "version": 3
   },
   "file_extension": ".py",
   "mimetype": "text/x-python",
   "name": "python",
   "nbconvert_exporter": "python",
   "pygments_lexer": "ipython3",
   "version": "3.12.5"
  }
 },
 "nbformat": 4,
 "nbformat_minor": 2
}
